{
 "cells": [
  {
   "cell_type": "markdown",
   "id": "88fc2c94",
   "metadata": {},
   "source": [
    "## Lyapunov Exponent\n",
    "\n",
    "The Lyapunov exponent represents the time average of $\\log∣f'(x_{i})∣$ at each point of the simulation. For a time-discrete system $x_{t+1} = x_{t} \\cdot r \\cdot (1 - x_{t})$ with varying $r$ yields:\n",
    "\n",
    "$$\\lambda (x_{0}) = \\lim_{n \\rightarrow \\infty} \\frac{1}{n} \\sum_{i=0}^{n-1} \\ln |f'(x_{i})|$$"
   ]
  },
  {
   "cell_type": "markdown",
   "id": "40b664c2",
   "metadata": {},
   "source": [
    "### Import Libs"
   ]
  },
  {
   "cell_type": "code",
   "execution_count": 1,
   "id": "6742a925",
   "metadata": {},
   "outputs": [],
   "source": [
    "import numpy as np\n",
    "import matplotlib.pyplot as plt\n",
    "import seaborn as sns\n",
    "import sys\n",
    "%matplotlib inline"
   ]
  },
  {
   "cell_type": "code",
   "execution_count": 2,
   "id": "f822f5be",
   "metadata": {},
   "outputs": [],
   "source": [
    "sys.path.append('../src/')"
   ]
  },
  {
   "cell_type": "markdown",
   "id": "a1810cbc",
   "metadata": {},
   "source": [
    "### Setup"
   ]
  },
  {
   "cell_type": "code",
   "execution_count": 3,
   "id": "0fe8f055",
   "metadata": {},
   "outputs": [],
   "source": [
    "from bifurcations import growth_rate"
   ]
  },
  {
   "cell_type": "markdown",
   "id": "3f00a823",
   "metadata": {},
   "source": [
    "### Visualize"
   ]
  },
  {
   "cell_type": "code",
   "execution_count": null,
   "id": "b8f561cd",
   "metadata": {
    "scrolled": false
   },
   "outputs": [],
   "source": [
    "%%time\n",
    "\n",
    "fig, ax = plt.subplots(1, 2, figsize=(16, 10), dpi=300)\n",
    "\n",
    "ax = ax.ravel()\n",
    "\n",
    "plot_params = {\n",
    "    'Logistic map': {\n",
    "        'setup':growth_rate(n=1000, n_iter=100, seed=0.5, dr=1e-4), \n",
    "        'color':'black', 'ms':0.05,\n",
    "        'xlim':[2.8, 4], 'ylim':[0, 1]},\n",
    "    'Lyapunov exponent': {\n",
    "        'setup':growth_rate(seed=0.99, dr=0.005),\n",
    "        'color':'teal', 'ms':1.0, \n",
    "        'xlim':[2, 4], 'ylim':[-1, 1]}\n",
    "}\n",
    "\n",
    "for i, (label, params) in enumerate(plot_params.items()):\n",
    "\n",
    "    maps, lambdas, rvalues = params.get('setup')\n",
    "\n",
    "    x = np.linspace(1, 4, len(maps))\n",
    "    \n",
    "    ax[i].plot(x, maps, 'o', \n",
    "               label = label,\n",
    "               color=params.get('color'), \n",
    "               ms=params.get('ms'))\n",
    "    \n",
    "    if i == 1:    \n",
    "        ax[i].plot(rvalues, lambdas, '-',\n",
    "                   label = 'Lyapunov exponent',\n",
    "                   color='darkblue',\n",
    "                   linewidth = 3.0)\n",
    "    \n",
    "        ax[i].axhline(0, linestyle='-', color='purple', lw=2.0)\n",
    "    \n",
    "    ax[i].set_ylim(params.get('ylim'))\n",
    "    ax[i].set_xlim(params.get('xlim'))\n",
    "    ax[i].set_title(label, fontsize=16)\n",
    "    ax[i].set_xlabel('Growth Rate ($r$)', fontsize=16)\n",
    "    ax[i].legend(loc='upper left', fontsize=16)\n",
    "    ax[i].spines['top'].set_visible(False)\n",
    "    ax[i].spines['left'].set_visible(False)\n",
    "    ax[i].spines['right'].set_visible(False)\n",
    "    \n",
    "fig.tight_layout(rect=[0, 0.03, 1, 0.95])\n",
    "fig.suptitle('Logistic map and Lyapunov exponent', weight='bold', fontsize=18)"
   ]
  }
 ],
 "metadata": {
  "kernelspec": {
   "display_name": "Python 3",
   "language": "python",
   "name": "python3"
  },
  "language_info": {
   "codemirror_mode": {
    "name": "ipython",
    "version": 3
   },
   "file_extension": ".py",
   "mimetype": "text/x-python",
   "name": "python",
   "nbconvert_exporter": "python",
   "pygments_lexer": "ipython3",
   "version": "3.8.13"
  }
 },
 "nbformat": 4,
 "nbformat_minor": 5
}
